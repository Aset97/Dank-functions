{
 "cells": [
  {
   "cell_type": "markdown",
   "metadata": {},
   "source": [
    "## Assignment 1\n",
    "\n",
    "In this assignment you are expected to implements Python functions that estimate some mathematical constants and operators. The assignmnet focuses on your Python expertiese on recursive functions, loops, `if` statements, data structures, and basic operators.  "
   ]
  },
  {
   "cell_type": "code",
   "execution_count": null,
   "metadata": {
    "collapsed": true
   },
   "outputs": [],
   "source": [
    "import numpy as np"
   ]
  },
  {
   "cell_type": "markdown",
   "metadata": {},
   "source": [
    "We are going to implement some functions/constants that our calculator / `numpy` / Google has.\n",
    "\n",
    "#### Exercise 1: Write a function that calculates the factorial of a number `n`\n",
    "\n",
    "The factorial of a number is represented by using the exclamation sign, for example, the factorial of $3$ is represented as $3!$. You can see how the factorial of a number N is calculated in the following examples:\n",
    "\n",
    "$$1! = 1$$\n",
    "\n",
    "$$2! = 2 x 1 = 2$$\n",
    "\n",
    "$$3! = 3 x 2 x 1 = 6$$\n",
    "\n",
    "$$4! = 4 x 3 x 2 x 1 = 24$$\n",
    "\n",
    "The general formula is:\n",
    "\n",
    "$$n! = n (n-1)!$$\n",
    "\n",
    "$$1! = 1$$\n",
    "\n",
    "$$0! = 1$$\n",
    "\n",
    "You can use either an iterative approach (with for or while loops) or a recursive approach."
   ]
  },
  {
   "cell_type": "code",
   "execution_count": null,
   "metadata": {
    "collapsed": true
   },
   "outputs": [],
   "source": [
    "def fact (n):\n",
    "    #YOUR CODE HERE\n",
    "    if n == 0:\n",
    "        return 0\n",
    "    elif n == 1:\n",
    "        return 1\n",
    "    else:\n",
    "        return (n * fact(n-1))\n",
    "\n",
    "        \n"
   ]
  },
  {
   "cell_type": "code",
   "execution_count": null,
   "metadata": {},
   "outputs": [],
   "source": [
    "fact(3),fact(6),fact(7),fact(10)"
   ]
  },
  {
   "cell_type": "markdown",
   "metadata": {},
   "source": [
    "#### Exercise 2: Approximate number e\n",
    "\n",
    "Euler's number, the number `e` is a constant number which is the base of the natural logarithm ($ln$). It is approximately 2.71828 and it can be calculated as the sum of the following infinite series:\n",
    "\n",
    "$$e \\approx \\sum _ { k = 0 } ^ { \\infty } \\frac { 1 } { k ! } = \\frac{1}{1} + \\frac{1}{1} + \\frac{1}{1x2}+ \\frac{1}{1x2x3}+ \\frac{1}{1x2x3x4} + \\ldots$$\n",
    "\n",
    "We know that infinity is very big, but, we can approximate the number, let's say, until $k=100$. Can you?"
   ]
  },
  {
   "cell_type": "code",
   "execution_count": null,
   "metadata": {
    "collapsed": true
   },
   "outputs": [],
   "source": [
    "#YOUR CODE HERE\n",
    "def approximate_e (n):\n",
    "    \n",
    "    if n == 0:\n",
    "        return 1\n",
    "    else:\n",
    "        return 1 / fact(n) + approximate_e(n - 1)\n",
    "\n"
   ]
  },
  {
   "cell_type": "code",
   "execution_count": null,
   "metadata": {},
   "outputs": [],
   "source": [
    "e = approximate_e(100)\n",
    "e"
   ]
  },
  {
   "cell_type": "markdown",
   "metadata": {},
   "source": [
    "#### Additional/Optional exercise:\n",
    "\n",
    "What is the difference between the approximate values of e with $k=20$ and $k=21$? How is that difference as $k$ becomes bigger?"
   ]
  },
  {
   "cell_type": "code",
   "execution_count": null,
   "metadata": {
    "collapsed": true
   },
   "outputs": [],
   "source": [
    "#YOUR CODE HERE (OPTIONAL)\n",
    "def eu(n):\n",
    "    \n",
    "    \n",
    "    if n == 0:\n",
    "        return 1\n",
    "    else:\n",
    "        return 1 / fact(n) + eu(n - 1)\n",
    "\n",
    "eu(100)\n",
    "#100 = 2.7182818284590455\n",
    "#21 = 2.7182818284590455\n",
    "#20 = 2.7182818284590455\n",
    "# No differece between numbers\n"
   ]
  },
  {
   "cell_type": "markdown",
   "metadata": {},
   "source": [
    "#### Exercise 3: Approximate Square root using the Babylonian method\n",
    "\n",
    "Now we are interested in calculating the square root of any number. It may seem trivial, but it is not so easy. Think, for instance, which is the square root of $60$?\n",
    "\n",
    "[This wiki article](https://en.wikipedia.org/wiki/Methods_of_computing_square_roots) shows different approaches!\n",
    "\n",
    "In this exercise you have to implement the Babylonian method, which calculates the square roots quite well. As with the number `e`, this result is reached when the function reaches infinity. Here you should also work for $k=100$ iterations.\n",
    "\n",
    "The method initializes $x_0$ with the approximate square root of $S$. In our case, in order to ensure that everybody gets the same answer, we will initialize the value with $S$.\n",
    "\n",
    "\n",
    "$$x _ { 0 } = S $$\n",
    "\n",
    "$$x _ { k + 1 } = \\frac { 1 } { 2 } \\left( x _ { k } + \\frac { S } { x _ { k } } \\right) $$\n",
    "\n",
    "$$\\sqrt { S } = \\lim _ { k \\rightarrow \\infty } x _ { k }$$\n"
   ]
  },
  {
   "cell_type": "code",
   "execution_count": null,
   "metadata": {
    "collapsed": true
   },
   "outputs": [],
   "source": [
    "\n",
    "#YOUR CODE HERE\n",
    "\n",
    "\n",
    "def appr_sqrt(S, k):\n",
    " \n",
    "        x = S\n",
    "        y = 1\n",
    "                \n",
    "        while(k > 0):\n",
    "     \n",
    "            x = (x + y)/2\n",
    "            y = S / x\n",
    "            k -= 1\n",
    "        return x\n",
    " \n",
    "\n",
    "\n",
    " \n",
    "appr_sqrt(60, 100)"
   ]
  },
  {
   "cell_type": "code",
   "execution_count": null,
   "metadata": {},
   "outputs": [],
   "source": [
    "appr_sqrt(9, 100)"
   ]
  },
  {
   "cell_type": "markdown",
   "metadata": {},
   "source": [
    "#### Additional/Optional exercise:\n",
    "\n",
    "What happens if we initialize the $x_0$ with different values?"
   ]
  },
  {
   "cell_type": "code",
   "execution_count": null,
   "metadata": {
    "collapsed": true
   },
   "outputs": [],
   "source": [
    "#YOUR CODE HERE (OPTIONAL)\n",
    "def appr_sqrt1(S, k):\n",
    " \n",
    "        x = 10\n",
    "        y = 1\n",
    "                \n",
    "        while(k > 0):\n",
    "     \n",
    "            x = (x + y)/2\n",
    "            y = S / x\n",
    "            k -= 1\n",
    "        return x\n",
    " \n",
    "\n",
    "\n",
    " \n",
    "appr_sqrt1(60, 100)"
   ]
  },
  {
   "cell_type": "markdown",
   "metadata": {},
   "source": [
    "#### Exercise 4: Approximate the number $\\pi$\n",
    "\n",
    "The number $\\pi$ is an amazing number! It was originally defined as the ratio of a circle's circumference to its diameter, and now it has some other equivalent definitions.\n",
    "\n",
    "We saw an approximation for estimating the number by using random numbers (this is also known as a Montecarlo simulation), but today we will implement another formula for approximating it. Here it is:\n",
    "\n",
    "$$v a l = \\sum _ { k = 0 } ^ { \\infty } \\frac { (- 3) ^ { - k } } { 2 k + 1 }$$\n",
    "\n",
    "$$\\pi \\approx val \\cdot \\sqrt { 12 }$$\n",
    "\n",
    "Again, this is an infinite series, which should approximate the number fairly well for high numbers. But, as in previous cases, in order to have a coherent result, we will calculate the value of $\\pi$ after $k=100$ iterations, and using the previously created `appr_sqrt` function. "
   ]
  },
  {
   "cell_type": "code",
   "execution_count": null,
   "metadata": {
    "collapsed": true
   },
   "outputs": [],
   "source": [
    " \n",
    "def appr_pi2 (k):\n",
    "    #YOUR CODE HERE\n",
    "    \n",
    "    if k == 0:\n",
    "        return 1\n",
    "    else:\n",
    "        return (-3)**-k / (2*k +1) + appr_pi2(k-1)\n",
    "\n",
    "    \n",
    "appr_pi2(100) * appr_sqrt(12, 100)\n"
   ]
  },
  {
   "cell_type": "code",
   "execution_count": null,
   "metadata": {},
   "outputs": [],
   "source": []
  },
  {
   "cell_type": "code",
   "execution_count": null,
   "metadata": {},
   "outputs": [],
   "source": [
    "#appr_pi()"
   ]
  },
  {
   "cell_type": "markdown",
   "metadata": {},
   "source": [
    "#### Exercise 5: Matrix multiplication with lists\n",
    "\n",
    "We know how important matrix multiplication is for machine learning, deep learning and algebra. We also know that there is a wonderful function in the package `numpy` that can do that for us (`np.dot`). \n",
    "\n",
    "In this excercise you are asked to implement a matrix multiplication function `matrix_multiply(m1, m2)` that takes two numpy matrices as arguments and returns the matrix product of these in a new matrix. The function should work element by element without calling any vectorized method or the `np.dot`. Although numpy library already implements matrix multiplication, your implementation cannot use any part of the numpy library, with the exceptions noted below:\n",
    "\n",
    "  * `.shape` to get the size of a matrix;\n",
    "  * `np.zeros((n, m))` to create a new $n$ by $m$ matrix; and\n",
    "  * the `[i, j]` indexing syntax to retrieve or set the value of cell $(i, j)$.\n",
    "\n",
    "Below are defined matrices $X, Y$ and $Z$.\n",
    "\n",
    "Implement the function matrix_multiply(m1, m2) and test it by computing the products $M_1M_2$ and $M_3M_4$.\n"
   ]
  },
  {
   "cell_type": "code",
   "execution_count": null,
   "metadata": {
    "collapsed": true
   },
   "outputs": [],
   "source": [
    "X = np.array([[6,7,7,8],[4,3,3,3]])\n",
    "Y = np.array([[1,3,5],[2,4,9],[8,9,0],[3,3,3]])\n",
    "Z = np.array([[10,13,45,11],[65,24,42,98],[1,1,2,0],[4,2,1,2]])"
   ]
  },
  {
   "cell_type": "code",
   "execution_count": null,
   "metadata": {},
   "outputs": [],
   "source": [
    "X.shape,Y.shape,Z.shape"
   ]
  },
  {
   "cell_type": "code",
   "execution_count": null,
   "metadata": {
    "collapsed": true
   },
   "outputs": [],
   "source": [
    "def matrix_multiply(m1, m2):\n",
    "    # Inner dimensions need to match. \n",
    "    # Otherwise, matrix multiplication is not defined\n",
    "    assert m1.shape[1] == m2.shape[0]\n",
    "    \n",
    "    # Create output matrix\n",
    "    out = np.zeros((m1.shape[0], m2.shape[1]), dtype=m1.dtype)\n",
    "    \n",
    "    # Each cell is the dot product between an `m1` row vector and a `m2` column vector, \n",
    "    # which have the same size\n",
    "    component_vector_size = m1.shape[1]\n",
    "    \n",
    "    # Fill it, cell by cell\n",
    "    #YOUR CODE HERE\n",
    "    for i in range(m1.shape[0]):\n",
    "        for j in range(m2.shape[1]):\n",
    "            for k in range(m1.shape[1]):\n",
    "                out[i, j] += m1[i, k] * m2[k, j]\n",
    "    \n",
    "                \n",
    "    return out"
   ]
  },
  {
   "cell_type": "code",
   "execution_count": null,
   "metadata": {},
   "outputs": [],
   "source": [
    "matrix_multiply(X,Y)"
   ]
  },
  {
   "cell_type": "code",
   "execution_count": null,
   "metadata": {},
   "outputs": [],
   "source": [
    "matrix_multiply(X,Z)"
   ]
  },
  {
   "cell_type": "code",
   "execution_count": null,
   "metadata": {},
   "outputs": [],
   "source": [
    "matrix_multiply(Z,Y)"
   ]
  },
  {
   "cell_type": "markdown",
   "metadata": {},
   "source": [
    "#### Additional exercise:\n",
    "\n",
    "Implement matrix multiplication using only lists, without using any options that the `numpy` package gives you. "
   ]
  },
  {
   "cell_type": "code",
   "execution_count": null,
   "metadata": {
    "collapsed": true
   },
   "outputs": [],
   "source": [
    "#YOUR CODE HERE (OPTIONAL)"
   ]
  }
 ],
 "metadata": {
  "interpreter": {
   "hash": "615ba1b51e7ad02de599917326ac580ef2c44bb6679db66412565e36ed88d5d8"
  },
  "kernelspec": {
   "display_name": "Python 3.8.5 64-bit ('base': conda)",
   "name": "python3"
  },
  "language_info": {
   "codemirror_mode": {
    "name": "ipython",
    "version": 3
   },
   "file_extension": ".py",
   "mimetype": "text/x-python",
   "name": "python",
   "nbconvert_exporter": "python",
   "pygments_lexer": "ipython3",
   "version": "3.8.5"
  }
 },
 "nbformat": 4,
 "nbformat_minor": 2
}
